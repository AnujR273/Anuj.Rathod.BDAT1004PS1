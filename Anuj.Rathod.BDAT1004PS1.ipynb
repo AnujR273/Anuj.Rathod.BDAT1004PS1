{
 "cells": [
  {
   "cell_type": "markdown",
   "id": "30905fcf",
   "metadata": {},
   "source": [
    "## Problem Set 1\n",
    "\n",
    "### Question 1: "
   ]
  },
  {
   "cell_type": "code",
   "execution_count": 40,
   "id": "c5f84aa6",
   "metadata": {},
   "outputs": [
    {
     "name": "stdout",
     "output_type": "stream",
     "text": [
      "<class 'int'>\n",
      "<class 'float'>\n",
      "<class 'bool'>\n",
      "<class 'str'>\n",
      "<class 'int'>\n",
      "<class 'str'>\n",
      "<class 'str'>\n",
      "<class 'float'>\n",
      "<class 'int'>\n",
      "<class 'set'>\n",
      "<class 'bool'>\n",
      "<class 'float'>\n"
     ]
    }
   ],
   "source": [
    "import math\n",
    "\n",
    "print(type(5))\n",
    "print(type(5.0))\n",
    "print(type(5 > 1))\n",
    "print(type('5'))\n",
    "print(type(5 * 2))\n",
    "print(type('5' * 2))\n",
    "print(type('5' + '2'))\n",
    "print(type(5 / 2))\n",
    "print(type(5 % 2))\n",
    "print(type({5, 2, 1}))\n",
    "print(type(5 == 3))\n",
    "print(type(math.pi))"
   ]
  },
  {
   "cell_type": "markdown",
   "id": "a1fa5980",
   "metadata": {},
   "source": [
    "\n",
    "\n",
    "### Question 2:"
   ]
  },
  {
   "cell_type": "code",
   "execution_count": 27,
   "id": "fc355b1b",
   "metadata": {},
   "outputs": [
    {
     "name": "stdout",
     "output_type": "stream",
     "text": [
      "34\n",
      "It contains\n",
      "Supercalifragilisticexpialidocious\n",
      "['Bartok', 'Bellini', 'Berlioz', 'Bernstein', 'Borodin', 'Brian', 'Buxtehude']\n"
     ]
    }
   ],
   "source": [
    "str = 'Supercalifragilisticexpialidocious'\n",
    "print(len(str))\n",
    "if 'ice' in str:\n",
    "    print('It contains')\n",
    "else:\n",
    "    print('It does not contain')\n",
    "\n",
    "lst = ['Supercalifragilisticexpialidocious', 'Honorificabilitudinitatibus','Bababadalgharaghtakamminarronnkonn']\n",
    "print(max(lst))\n",
    "\n",
    "lst2 = ['Berlioz', 'Borodin', 'Brian','Bartok', 'Bellini', 'Buxtehude', 'Bernstein']\n",
    "lst2.sort()\n",
    "\n",
    "print(lst2)\n"
   ]
  },
  {
   "cell_type": "markdown",
   "id": "17d5e5f7",
   "metadata": {},
   "source": [
    "### Question 3:"
   ]
  },
  {
   "cell_type": "code",
   "execution_count": 28,
   "id": "663b6342",
   "metadata": {},
   "outputs": [
    {
     "name": "stdout",
     "output_type": "stream",
     "text": [
      "1.7320508075688772\n"
     ]
    }
   ],
   "source": [
    "import math\n",
    "def triangle(a,b,c):\n",
    "  \n",
    "    s = (a+b+c) / 2\n",
    "    \n",
    "    S = math.sqrt(s * (s-a) * (s-b) * (s-c))\n",
    "    print(S)\n",
    "    \n",
    "triangle(2,2,2)\n"
   ]
  },
  {
   "cell_type": "markdown",
   "id": "340ef122",
   "metadata": {},
   "source": [
    "### Question 4:"
   ]
  },
  {
   "cell_type": "code",
   "execution_count": 29,
   "id": "670a69fd",
   "metadata": {},
   "outputs": [
    {
     "name": "stdout",
     "output_type": "stream",
     "text": [
      "Input the number of elements to be stored in the array : 5\n",
      "25\n",
      "47\n",
      "42\n",
      "56\n",
      "32\n",
      "The Even elements are: \n",
      " [42, 56, 32]\n",
      "The Odd Elements are: \n",
      " [25, 47]\n"
     ]
    }
   ],
   "source": [
    "lst = [ ]\n",
    "n = int(input(\"Input the number of elements to be stored in the array : \"))\n",
    "  \n",
    "for i in range(n):\n",
    "    element = int(input())\n",
    "    lst.append(element)\n",
    "\n",
    "def even_odd(lst):\n",
    "    lst_odd = []\n",
    "    lst_even = []\n",
    "\n",
    "    for i in lst:\n",
    "        if (i % 2 == 0):\n",
    "            lst_even.append(i)\n",
    "        else:\n",
    "            lst_odd.append(i)\n",
    "    print(\"The Even elements are: \\n\", lst_even)\n",
    "    print(\"The Odd Elements are: \\n\", lst_odd)\n",
    "    \n",
    "even_odd(lst)"
   ]
  },
  {
   "cell_type": "markdown",
   "id": "6cddd524",
   "metadata": {},
   "source": [
    "\n",
    "### Question 5:"
   ]
  },
  {
   "cell_type": "code",
   "execution_count": 100,
   "id": "db78e75e",
   "metadata": {
    "scrolled": true
   },
   "outputs": [
    {
     "name": "stdout",
     "output_type": "stream",
     "text": [
      "True\n",
      "False\n",
      "False\n"
     ]
    }
   ],
   "source": [
    "#Part A\n",
    "def inside(x,y,x1,y1,x2,y2):\n",
    "    if (x1< x < x2) and (y1 < y < y2):\n",
    "        return True\n",
    "    else:\n",
    "        return False\n",
    "\n",
    "print(inside(1,1,0,0,2,3))\n",
    "print(inside(-1,-1,0,0,2,3))\n",
    "\n",
    "#Part B\n",
    "\n",
    "print(inside(1,1,0.3,0.5,1.1,0.7) and inside(1,1,0.5,0.2,1.1,2))"
   ]
  },
  {
   "cell_type": "markdown",
   "id": "c80a04ea",
   "metadata": {},
   "source": [
    "### Question 6:"
   ]
  },
  {
   "cell_type": "code",
   "execution_count": 16,
   "id": "27d1790b",
   "metadata": {},
   "outputs": [
    {
     "name": "stdout",
     "output_type": "stream",
     "text": [
      "appyhay\n",
      "enterway\n"
     ]
    }
   ],
   "source": [
    "def pig(str):\n",
    "    vowels = ['a', 'e', 'i', 'o', 'u']\n",
    "    if str[:1].lower() in vowels:\n",
    "        print(str.lower() + 'way')\n",
    "    else:\n",
    "        print(str[1:] + str[:1].lower() + 'ay')\n",
    "        \n",
    "pig('happy')\n",
    "pig('Enter')"
   ]
  },
  {
   "cell_type": "markdown",
   "id": "bd5dab3f",
   "metadata": {},
   "source": [
    "### Question 7:"
   ]
  },
  {
   "cell_type": "code",
   "execution_count": 1,
   "id": "7eec4917",
   "metadata": {},
   "outputs": [
    {
     "name": "stdout",
     "output_type": "stream",
     "text": [
      "There are 15 patients of blood type A\n",
      "There are 1 patients of blood type B\n",
      "There are 13 patients of blood type AB\n",
      "There are 15 patients of blood type O\n",
      "There are 0 patients of blood type OO\n"
     ]
    }
   ],
   "source": [
    "def bloodSamples(letter):\n",
    "    infile = open('bloodtype1.txt')\n",
    "    data = infile.read()\n",
    "    count = 0\n",
    "    for a in data.split(' '):\n",
    "        if letter == a:\n",
    "            count += 1\n",
    "    return int(count)\n",
    "\n",
    "def bloodTest():\n",
    "    print(f\"There are {bloodSamples('A')} patients of blood type A\")\n",
    "    print(f\"There are {bloodSamples('B')} patients of blood type B\")\n",
    "    print(f\"There are {bloodSamples('AB')} patients of blood type AB\")\n",
    "    print(f\"There are {bloodSamples('O')} patients of blood type O\")\n",
    "    print(f\"There are {bloodSamples('OO')} patients of blood type OO\")\n",
    "    \n",
    "bloodTest()"
   ]
  },
  {
   "cell_type": "markdown",
   "id": "5b79b84d",
   "metadata": {},
   "source": [
    "### Question 8:"
   ]
  },
  {
   "cell_type": "code",
   "execution_count": 2,
   "id": "80578cf7",
   "metadata": {},
   "outputs": [
    {
     "name": "stdout",
     "output_type": "stream",
     "text": [
      "122.96544\n",
      "1.241401\n"
     ]
    }
   ],
   "source": [
    "def curconv(cur,amount):\n",
    "    dict ={}\n",
    "    infile = open(\"currencies.txt\")\n",
    "    for line in infile.readlines():            \n",
    "            (key,val) = line.split(\"   \")[0],line.split(\"   \")[1]\n",
    "            dict[key] = val\n",
    "            \n",
    "    print(float(dict[cur])*amount)\n",
    "            \n",
    "curconv('EUR', 100)\n",
    "curconv('JPY', 100)"
   ]
  },
  {
   "cell_type": "markdown",
   "id": "0c4e7500",
   "metadata": {},
   "source": [
    "### Question 9:\n",
    "\n",
    "TypeError: 6 + 'a'\n",
    "\n",
    "IndexError: 12th item in 10 item list\n",
    "\n",
    "ValueError: math.sqrt(-1.0)\n",
    "\n",
    "NameError: print(x) where x is not defined\n",
    "\n",
    "FileNotFoundError: open a file that does not exist"
   ]
  },
  {
   "cell_type": "markdown",
   "id": "ef7894b5",
   "metadata": {},
   "source": [
    "### Question 10:"
   ]
  },
  {
   "cell_type": "code",
   "execution_count": 45,
   "id": "c2d9fbba",
   "metadata": {
    "scrolled": true
   },
   "outputs": [
    {
     "data": {
      "text/plain": [
       "[1, 1, 1, 3, 5, 1, 1, 2, 1, 0, 1, 0, 1, 2, 4, 0, 1, 2, 0, 3, 1, 0, 1, 1, 0, 0]"
      ]
     },
     "execution_count": 45,
     "metadata": {},
     "output_type": "execute_result"
    }
   ],
   "source": [
    "def frequencies(str):\n",
    "    letters = \"abcdefghijklmnopqrstuvwxyz\"\n",
    "    lst = []\n",
    "    for a in letters:\n",
    "        lst.append(str.count(a))\n",
    "        \n",
    "    return lst\n",
    "\n",
    "frequencies('the quick red fox got bored and went home')"
   ]
  }
 ],
 "metadata": {
  "kernelspec": {
   "display_name": "Python 3 (ipykernel)",
   "language": "python",
   "name": "python3"
  },
  "language_info": {
   "codemirror_mode": {
    "name": "ipython",
    "version": 3
   },
   "file_extension": ".py",
   "mimetype": "text/x-python",
   "name": "python",
   "nbconvert_exporter": "python",
   "pygments_lexer": "ipython3",
   "version": "3.9.13"
  }
 },
 "nbformat": 4,
 "nbformat_minor": 5
}
